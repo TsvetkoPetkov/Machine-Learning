{
 "cells": [
  {
   "cell_type": "code",
   "execution_count": 1,
   "id": "03e94052-2b16-4efa-b9c5-d03add573e31",
   "metadata": {},
   "outputs": [],
   "source": [
    "# IMPORTS\n",
    "\n",
    "import pandas as pd\n",
    "import os"
   ]
  },
  {
   "cell_type": "markdown",
   "id": "b1454fad-b70a-4f1c-adef-38f3a09eb755",
   "metadata": {},
   "source": [
    "<h1 style='text-align: center'}>Data Loading</h1>"
   ]
  },
  {
   "cell_type": "markdown",
   "id": "7a3d2f4d-a930-4d05-a8f9-7f7d520068a3",
   "metadata": {},
   "source": [
    "## Reading The Data\n",
    "To begin, I’ll load the necessary datasets into my workspace. This step is essential for setting up the core data I’ll need throughout the project.\n",
    "By reading the data into DataFrames, I’ll be ready to explore its structure and contents, which will help guide the data cleaning and preprocessing steps that follow."
   ]
  },
  {
   "cell_type": "code",
   "execution_count": 2,
   "id": "dfb413ad-e381-4d32-9fea-bb51c73dd027",
   "metadata": {},
   "outputs": [],
   "source": [
    "train = pd.read_csv(\"data/raw_data/train.csv\")\n",
    "macro = pd.read_csv(\"data/raw_data/macro.csv\")"
   ]
  },
  {
   "cell_type": "markdown",
   "id": "22831853-729a-4882-8330-82f7f8819f55",
   "metadata": {},
   "source": [
    "Now, I’ll perform an initial inspection of both the training and macro datasets to understand their structure, dimensions, and variable types."
   ]
  },
  {
   "cell_type": "code",
   "execution_count": 3,
   "id": "77d6c6dd-b919-4ee1-aae0-15587175dcd6",
   "metadata": {},
   "outputs": [
    {
     "data": {
      "text/html": [
       "<div>\n",
       "<style scoped>\n",
       "    .dataframe tbody tr th:only-of-type {\n",
       "        vertical-align: middle;\n",
       "    }\n",
       "\n",
       "    .dataframe tbody tr th {\n",
       "        vertical-align: top;\n",
       "    }\n",
       "\n",
       "    .dataframe thead th {\n",
       "        text-align: right;\n",
       "    }\n",
       "</style>\n",
       "<table border=\"1\" class=\"dataframe\">\n",
       "  <thead>\n",
       "    <tr style=\"text-align: right;\">\n",
       "      <th></th>\n",
       "      <th>id</th>\n",
       "      <th>timestamp</th>\n",
       "      <th>full_sq</th>\n",
       "      <th>life_sq</th>\n",
       "      <th>floor</th>\n",
       "      <th>max_floor</th>\n",
       "      <th>material</th>\n",
       "      <th>build_year</th>\n",
       "      <th>num_room</th>\n",
       "      <th>kitch_sq</th>\n",
       "      <th>...</th>\n",
       "      <th>cafe_count_5000_price_2500</th>\n",
       "      <th>cafe_count_5000_price_4000</th>\n",
       "      <th>cafe_count_5000_price_high</th>\n",
       "      <th>big_church_count_5000</th>\n",
       "      <th>church_count_5000</th>\n",
       "      <th>mosque_count_5000</th>\n",
       "      <th>leisure_count_5000</th>\n",
       "      <th>sport_count_5000</th>\n",
       "      <th>market_count_5000</th>\n",
       "      <th>price_doc</th>\n",
       "    </tr>\n",
       "  </thead>\n",
       "  <tbody>\n",
       "    <tr>\n",
       "      <th>0</th>\n",
       "      <td>1</td>\n",
       "      <td>2011-08-20</td>\n",
       "      <td>43</td>\n",
       "      <td>27.0</td>\n",
       "      <td>4.0</td>\n",
       "      <td>NaN</td>\n",
       "      <td>NaN</td>\n",
       "      <td>NaN</td>\n",
       "      <td>NaN</td>\n",
       "      <td>NaN</td>\n",
       "      <td>...</td>\n",
       "      <td>9</td>\n",
       "      <td>4</td>\n",
       "      <td>0</td>\n",
       "      <td>13</td>\n",
       "      <td>22</td>\n",
       "      <td>1</td>\n",
       "      <td>0</td>\n",
       "      <td>52</td>\n",
       "      <td>4</td>\n",
       "      <td>5850000</td>\n",
       "    </tr>\n",
       "    <tr>\n",
       "      <th>1</th>\n",
       "      <td>2</td>\n",
       "      <td>2011-08-23</td>\n",
       "      <td>34</td>\n",
       "      <td>19.0</td>\n",
       "      <td>3.0</td>\n",
       "      <td>NaN</td>\n",
       "      <td>NaN</td>\n",
       "      <td>NaN</td>\n",
       "      <td>NaN</td>\n",
       "      <td>NaN</td>\n",
       "      <td>...</td>\n",
       "      <td>15</td>\n",
       "      <td>3</td>\n",
       "      <td>0</td>\n",
       "      <td>15</td>\n",
       "      <td>29</td>\n",
       "      <td>1</td>\n",
       "      <td>10</td>\n",
       "      <td>66</td>\n",
       "      <td>14</td>\n",
       "      <td>6000000</td>\n",
       "    </tr>\n",
       "    <tr>\n",
       "      <th>2</th>\n",
       "      <td>3</td>\n",
       "      <td>2011-08-27</td>\n",
       "      <td>43</td>\n",
       "      <td>29.0</td>\n",
       "      <td>2.0</td>\n",
       "      <td>NaN</td>\n",
       "      <td>NaN</td>\n",
       "      <td>NaN</td>\n",
       "      <td>NaN</td>\n",
       "      <td>NaN</td>\n",
       "      <td>...</td>\n",
       "      <td>10</td>\n",
       "      <td>3</td>\n",
       "      <td>0</td>\n",
       "      <td>11</td>\n",
       "      <td>27</td>\n",
       "      <td>0</td>\n",
       "      <td>4</td>\n",
       "      <td>67</td>\n",
       "      <td>10</td>\n",
       "      <td>5700000</td>\n",
       "    </tr>\n",
       "    <tr>\n",
       "      <th>3</th>\n",
       "      <td>4</td>\n",
       "      <td>2011-09-01</td>\n",
       "      <td>89</td>\n",
       "      <td>50.0</td>\n",
       "      <td>9.0</td>\n",
       "      <td>NaN</td>\n",
       "      <td>NaN</td>\n",
       "      <td>NaN</td>\n",
       "      <td>NaN</td>\n",
       "      <td>NaN</td>\n",
       "      <td>...</td>\n",
       "      <td>11</td>\n",
       "      <td>2</td>\n",
       "      <td>1</td>\n",
       "      <td>4</td>\n",
       "      <td>4</td>\n",
       "      <td>0</td>\n",
       "      <td>0</td>\n",
       "      <td>26</td>\n",
       "      <td>3</td>\n",
       "      <td>13100000</td>\n",
       "    </tr>\n",
       "    <tr>\n",
       "      <th>4</th>\n",
       "      <td>5</td>\n",
       "      <td>2011-09-05</td>\n",
       "      <td>77</td>\n",
       "      <td>77.0</td>\n",
       "      <td>4.0</td>\n",
       "      <td>NaN</td>\n",
       "      <td>NaN</td>\n",
       "      <td>NaN</td>\n",
       "      <td>NaN</td>\n",
       "      <td>NaN</td>\n",
       "      <td>...</td>\n",
       "      <td>319</td>\n",
       "      <td>108</td>\n",
       "      <td>17</td>\n",
       "      <td>135</td>\n",
       "      <td>236</td>\n",
       "      <td>2</td>\n",
       "      <td>91</td>\n",
       "      <td>195</td>\n",
       "      <td>14</td>\n",
       "      <td>16331452</td>\n",
       "    </tr>\n",
       "  </tbody>\n",
       "</table>\n",
       "<p>5 rows × 292 columns</p>\n",
       "</div>"
      ],
      "text/plain": [
       "   id   timestamp  full_sq  life_sq  floor  max_floor  material  build_year  \\\n",
       "0   1  2011-08-20       43     27.0    4.0        NaN       NaN         NaN   \n",
       "1   2  2011-08-23       34     19.0    3.0        NaN       NaN         NaN   \n",
       "2   3  2011-08-27       43     29.0    2.0        NaN       NaN         NaN   \n",
       "3   4  2011-09-01       89     50.0    9.0        NaN       NaN         NaN   \n",
       "4   5  2011-09-05       77     77.0    4.0        NaN       NaN         NaN   \n",
       "\n",
       "   num_room  kitch_sq  ...  cafe_count_5000_price_2500  \\\n",
       "0       NaN       NaN  ...                           9   \n",
       "1       NaN       NaN  ...                          15   \n",
       "2       NaN       NaN  ...                          10   \n",
       "3       NaN       NaN  ...                          11   \n",
       "4       NaN       NaN  ...                         319   \n",
       "\n",
       "  cafe_count_5000_price_4000 cafe_count_5000_price_high  \\\n",
       "0                          4                          0   \n",
       "1                          3                          0   \n",
       "2                          3                          0   \n",
       "3                          2                          1   \n",
       "4                        108                         17   \n",
       "\n",
       "   big_church_count_5000  church_count_5000  mosque_count_5000  \\\n",
       "0                     13                 22                  1   \n",
       "1                     15                 29                  1   \n",
       "2                     11                 27                  0   \n",
       "3                      4                  4                  0   \n",
       "4                    135                236                  2   \n",
       "\n",
       "   leisure_count_5000  sport_count_5000  market_count_5000  price_doc  \n",
       "0                   0                52                  4    5850000  \n",
       "1                  10                66                 14    6000000  \n",
       "2                   4                67                 10    5700000  \n",
       "3                   0                26                  3   13100000  \n",
       "4                  91               195                 14   16331452  \n",
       "\n",
       "[5 rows x 292 columns]"
      ]
     },
     "execution_count": 3,
     "metadata": {},
     "output_type": "execute_result"
    }
   ],
   "source": [
    "train.head()"
   ]
  },
  {
   "cell_type": "code",
   "execution_count": 4,
   "id": "70b7662e-03c9-4497-8536-6db3b9c0146a",
   "metadata": {},
   "outputs": [
    {
     "data": {
      "text/plain": [
       "{'Training dataset shape': (30471, 292), 'Macro dataset shape': (2484, 100)}"
      ]
     },
     "execution_count": 4,
     "metadata": {},
     "output_type": "execute_result"
    }
   ],
   "source": [
    "dimensions = {\n",
    "    'Training dataset shape': train.shape,\n",
    "    'Macro dataset shape': macro.shape\n",
    "}\n",
    "dimensions"
   ]
  },
  {
   "cell_type": "code",
   "execution_count": 5,
   "id": "46777938-2b4e-4845-bb97-e6ed11fc41a6",
   "metadata": {},
   "outputs": [
    {
     "name": "stdout",
     "output_type": "stream",
     "text": [
      "<class 'pandas.core.frame.DataFrame'>\n",
      "RangeIndex: 30471 entries, 0 to 30470\n",
      "Columns: 292 entries, id to price_doc\n",
      "dtypes: float64(119), int64(157), object(16)\n",
      "memory usage: 67.9+ MB\n"
     ]
    }
   ],
   "source": [
    "train.info()"
   ]
  },
  {
   "cell_type": "code",
   "execution_count": 6,
   "id": "b13c09c9-14b4-44f5-a301-465ae00d7c05",
   "metadata": {},
   "outputs": [
    {
     "name": "stdout",
     "output_type": "stream",
     "text": [
      "<class 'pandas.core.frame.DataFrame'>\n",
      "RangeIndex: 2484 entries, 0 to 2483\n",
      "Data columns (total 100 columns):\n",
      " #   Column                                      Non-Null Count  Dtype  \n",
      "---  ------                                      --------------  -----  \n",
      " 0   timestamp                                   2484 non-null   object \n",
      " 1   oil_urals                                   2484 non-null   float64\n",
      " 2   gdp_quart                                   2394 non-null   float64\n",
      " 3   gdp_quart_growth                            2394 non-null   float64\n",
      " 4   cpi                                         2453 non-null   float64\n",
      " 5   ppi                                         2453 non-null   float64\n",
      " 6   gdp_deflator                                2119 non-null   float64\n",
      " 7   balance_trade                               2453 non-null   float64\n",
      " 8   balance_trade_growth                        2394 non-null   float64\n",
      " 9   usdrub                                      2481 non-null   float64\n",
      " 10  eurrub                                      2481 non-null   float64\n",
      " 11  brent                                       2481 non-null   float64\n",
      " 12  net_capital_export                          2088 non-null   float64\n",
      " 13  gdp_annual                                  2484 non-null   float64\n",
      " 14  gdp_annual_growth                           2484 non-null   float64\n",
      " 15  average_provision_of_build_contract         2484 non-null   float64\n",
      " 16  average_provision_of_build_contract_moscow  2119 non-null   float64\n",
      " 17  rts                                         2474 non-null   float64\n",
      " 18  micex                                       2474 non-null   float64\n",
      " 19  micex_rgbi_tr                               2474 non-null   float64\n",
      " 20  micex_cbi_tr                                2483 non-null   float64\n",
      " 21  deposits_value                              2484 non-null   int64  \n",
      " 22  deposits_growth                             2453 non-null   float64\n",
      " 23  deposits_rate                               2070 non-null   float64\n",
      " 24  mortgage_value                              2484 non-null   int64  \n",
      " 25  mortgage_growth                             2119 non-null   float64\n",
      " 26  mortgage_rate                               2484 non-null   float64\n",
      " 27  grp                                         1826 non-null   float64\n",
      " 28  grp_growth                                  1461 non-null   float64\n",
      " 29  income_per_cap                              2191 non-null   float64\n",
      " 30  real_dispos_income_per_cap_growth           1826 non-null   float64\n",
      " 31  salary                                      2191 non-null   float64\n",
      " 32  salary_growth                               1826 non-null   float64\n",
      " 33  fixed_basket                                2484 non-null   float64\n",
      " 34  retail_trade_turnover                       2191 non-null   float64\n",
      " 35  retail_trade_turnover_per_cap               2191 non-null   float64\n",
      " 36  retail_trade_turnover_growth                2191 non-null   float64\n",
      " 37  labor_force                                 2191 non-null   float64\n",
      " 38  unemployment                                2191 non-null   float64\n",
      " 39  employment                                  2191 non-null   float64\n",
      " 40  invest_fixed_capital_per_cap                2191 non-null   float64\n",
      " 41  invest_fixed_assets                         2191 non-null   float64\n",
      " 42  profitable_enterpr_share                    1826 non-null   float64\n",
      " 43  unprofitable_enterpr_share                  1826 non-null   float64\n",
      " 44  share_own_revenues                          1826 non-null   float64\n",
      " 45  overdue_wages_per_cap                       1826 non-null   float64\n",
      " 46  fin_res_per_cap                             1826 non-null   float64\n",
      " 47  marriages_per_1000_cap                      1826 non-null   float64\n",
      " 48  divorce_rate                                1826 non-null   float64\n",
      " 49  construction_value                          1826 non-null   float64\n",
      " 50  invest_fixed_assets_phys                    1826 non-null   float64\n",
      " 51  pop_natural_increase                        2191 non-null   float64\n",
      " 52  pop_migration                               1826 non-null   float64\n",
      " 53  pop_total_inc                               1826 non-null   float64\n",
      " 54  childbirth                                  2191 non-null   float64\n",
      " 55  mortality                                   2191 non-null   float64\n",
      " 56  housing_fund_sqm                            1826 non-null   float64\n",
      " 57  lodging_sqm_per_cap                         1826 non-null   float64\n",
      " 58  water_pipes_share                           1826 non-null   float64\n",
      " 59  baths_share                                 1826 non-null   float64\n",
      " 60  sewerage_share                              1826 non-null   float64\n",
      " 61  gas_share                                   1826 non-null   float64\n",
      " 62  hot_water_share                             1826 non-null   float64\n",
      " 63  electric_stove_share                        1826 non-null   float64\n",
      " 64  heating_share                               1826 non-null   float64\n",
      " 65  old_house_share                             1826 non-null   float64\n",
      " 66  average_life_exp                            2191 non-null   float64\n",
      " 67  infant_mortarity_per_1000_cap               1826 non-null   float64\n",
      " 68  perinatal_mort_per_1000_cap                 1826 non-null   float64\n",
      " 69  incidence_population                        1826 non-null   float64\n",
      " 70  rent_price_4+room_bus                       2211 non-null   float64\n",
      " 71  rent_price_3room_bus                        2211 non-null   float64\n",
      " 72  rent_price_2room_bus                        2211 non-null   float64\n",
      " 73  rent_price_1room_bus                        2211 non-null   float64\n",
      " 74  rent_price_3room_eco                        2211 non-null   float64\n",
      " 75  rent_price_2room_eco                        2211 non-null   float64\n",
      " 76  rent_price_1room_eco                        2211 non-null   float64\n",
      " 77  load_of_teachers_preschool_per_teacher      1461 non-null   float64\n",
      " 78  child_on_acc_pre_school                     1826 non-null   object \n",
      " 79  load_of_teachers_school_per_teacher         2191 non-null   float64\n",
      " 80  students_state_oneshift                     1826 non-null   float64\n",
      " 81  modern_education_share                      1095 non-null   object \n",
      " 82  old_education_build_share                   1095 non-null   object \n",
      " 83  provision_doctors                           1826 non-null   float64\n",
      " 84  provision_nurse                             2191 non-null   float64\n",
      " 85  load_on_doctors                             2191 non-null   float64\n",
      " 86  power_clinics                               1826 non-null   float64\n",
      " 87  hospital_beds_available_per_cap             1461 non-null   float64\n",
      " 88  hospital_bed_occupancy_per_year             1461 non-null   float64\n",
      " 89  provision_retail_space_sqm                  731 non-null    float64\n",
      " 90  provision_retail_space_modern_sqm           730 non-null    float64\n",
      " 91  turnover_catering_per_cap                   2191 non-null   float64\n",
      " 92  theaters_viewers_per_1000_cap               1461 non-null   float64\n",
      " 93  seats_theather_rfmin_per_100000_cap         2191 non-null   float64\n",
      " 94  museum_visitis_per_100_cap                  1461 non-null   float64\n",
      " 95  bandwidth_sports                            1826 non-null   float64\n",
      " 96  population_reg_sports_share                 1461 non-null   float64\n",
      " 97  students_reg_sports_share                   1461 non-null   float64\n",
      " 98  apartment_build                             1826 non-null   float64\n",
      " 99  apartment_fund_sqm                          1826 non-null   float64\n",
      "dtypes: float64(94), int64(2), object(4)\n",
      "memory usage: 1.9+ MB\n"
     ]
    }
   ],
   "source": [
    "macro.info()"
   ]
  },
  {
   "cell_type": "markdown",
   "id": "dc92bcde-8c94-4f1e-b8c4-b1dae3e76c6d",
   "metadata": {},
   "source": [
    "The initial inspection shows that the training dataset is large, with 30,471 rows and 292 columns, while the macro dataset is smaller, with 2,484 rows and 100 columns. Both datasets are predominantly numerical, with some categorical columns that may require encoding."
   ]
  },
  {
   "cell_type": "markdown",
   "id": "5150baa7-bbd7-464e-a534-fe396380a3d3",
   "metadata": {},
   "source": [
    "## Data Formatting\n",
    "I’ll prepare and structure the datasets for seamless integration and analysis. First, I’ll ensure that date information in both datasets is standardized by converting the timestamp column to a datetime format. After this, I’ll merge the training and macr datasets on the timestamp column, allowing me to enrich the training data with additional macroeconomic features. This data formatting step is crucial for aligning and consolidating the information, setting up a consistent foundation for the modeling phase."
   ]
  },
  {
   "cell_type": "code",
   "execution_count": 7,
   "id": "62b16f53-4f15-48e2-bbe1-35e2d48e96ec",
   "metadata": {},
   "outputs": [],
   "source": [
    "train['timestamp'] = pd.to_datetime(train['timestamp'])\n",
    "macro['timestamp'] = pd.to_datetime(macro['timestamp'])"
   ]
  },
  {
   "cell_type": "code",
   "execution_count": 8,
   "id": "2aea84eb-4617-424e-881e-17a9ca63cbfb",
   "metadata": {},
   "outputs": [
    {
     "data": {
      "text/plain": [
       "0       2011-08-20\n",
       "1       2011-08-23\n",
       "2       2011-08-27\n",
       "3       2011-09-01\n",
       "4       2011-09-05\n",
       "           ...    \n",
       "30466   2015-06-30\n",
       "30467   2015-06-30\n",
       "30468   2015-06-30\n",
       "30469   2015-06-30\n",
       "30470   2015-06-30\n",
       "Name: timestamp, Length: 30471, dtype: datetime64[ns]"
      ]
     },
     "execution_count": 8,
     "metadata": {},
     "output_type": "execute_result"
    }
   ],
   "source": [
    "train['timestamp']"
   ]
  },
  {
   "cell_type": "code",
   "execution_count": 9,
   "id": "5beac287-35a8-44bd-ab63-a578a5984e81",
   "metadata": {},
   "outputs": [],
   "source": [
    "train_macro_combined = pd.merge(train, macro, on=\"timestamp\", how=\"left\")"
   ]
  },
  {
   "cell_type": "code",
   "execution_count": 10,
   "id": "3ed6769a-d7e9-44c1-a3b9-85f9eacb2b25",
   "metadata": {},
   "outputs": [
    {
     "data": {
      "text/plain": [
       "(30471, 391)"
      ]
     },
     "execution_count": 10,
     "metadata": {},
     "output_type": "execute_result"
    }
   ],
   "source": [
    "train_macro_combined.shape"
   ]
  },
  {
   "cell_type": "markdown",
   "id": "817926bf-daca-4e12-b639-b41cf58e9de8",
   "metadata": {},
   "source": [
    "After merging, I checked the shape of the DataFrame to confirm success. The result is (30471, 391), matching the original 30,471 rows and showing an increase in columns from 292 to 391. This confirms that the merge was successful, with the macro features correctly added by timestamp."
   ]
  },
  {
   "cell_type": "code",
   "execution_count": 12,
   "id": "0128afa1-3dba-4e64-9795-18fe7169fd8a",
   "metadata": {},
   "outputs": [
    {
     "name": "stdout",
     "output_type": "stream",
     "text": [
      "Dataset saved to data/processed_data\\train_macro_combined.csv\n"
     ]
    }
   ],
   "source": [
    "# Saving my new dataset into csv file\n",
    "\n",
    "processed_data_dir = \"data/processed_data\"\n",
    "os.makedirs(processed_data_dir, exist_ok=True)\n",
    "\n",
    "file_path = os.path.join(processed_data_dir, \"train_macro_combined.csv\")\n",
    "train_macro_combined.to_csv(file_path, index=False)\n",
    "\n",
    "print(f\"Dataset saved to {file_path}\")"
   ]
  },
  {
   "cell_type": "code",
   "execution_count": null,
   "id": "65bd2614-b3e4-481c-9e86-dfe372cc7d7e",
   "metadata": {},
   "outputs": [],
   "source": []
  }
 ],
 "metadata": {
  "kernelspec": {
   "display_name": "Python 3 (ipykernel)",
   "language": "python",
   "name": "python3"
  },
  "language_info": {
   "codemirror_mode": {
    "name": "ipython",
    "version": 3
   },
   "file_extension": ".py",
   "mimetype": "text/x-python",
   "name": "python",
   "nbconvert_exporter": "python",
   "pygments_lexer": "ipython3",
   "version": "3.11.7"
  }
 },
 "nbformat": 4,
 "nbformat_minor": 5
}
