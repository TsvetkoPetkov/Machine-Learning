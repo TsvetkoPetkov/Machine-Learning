{
 "cells": [
  {
   "cell_type": "markdown",
   "id": "35f34501-886d-41d6-867a-76d2a57d741b",
   "metadata": {},
   "source": [
    "<h1 style='text-align: center'}>Title: Prediction of the Russian Housing Market</h1>"
   ]
  },
  {
   "attachments": {},
   "cell_type": "markdown",
   "id": "e60ada1f-f1c2-4797-982d-9582f659e3e4",
   "metadata": {},
   "source": [
    "<div style=\"text-align:center;\">\n",
    "    <img src=\"data/image/house_price.jpg\" alt=\"Image\" width=\"300\" height=\"50\">\n",
    "</div>"
   ]
  },
  {
   "cell_type": "markdown",
   "id": "b971c16e-22a2-47b7-8209-92312c479cf3",
   "metadata": {},
   "source": [
    "## Introduction\n",
    "The objective of this project is to develop a machine learning model capable of predicting the sale price of properties in Russia based on historical data, macroeconomic indicators, and other features. The task at hand is to build a model that can accurately predict property prices, using various features related to the property, its location, and the broader economic context of Russia during the period from 2011 to 2016."
   ]
  },
  {
   "cell_type": "markdown",
   "id": "ff9ad978-03f2-4a99-9e1e-b2729d2c4d4f",
   "metadata": {},
   "source": [
    "## Problem Statement"
   ]
  },
  {
   "cell_type": "markdown",
   "id": "ea0360a4-a034-4275-b24b-9ad3ff3af5ba",
   "metadata": {},
   "source": [
    "The real estate market is influenced by a range of factors including economic conditions, market trends, and property-specific characteristics. Accurately forecasting property prices can be valuable for various stakeholders, including real estate agents, investors, and government bodies. The challenge of this project lies in predicting property prices with high accuracy, given the complex nature of the housing market, its dependency on economic variables, and the potential for incomplete or noisy data.\n",
    "\n",
    "In this case, the primary goal is to predict the sale price of each property based on the features provided in the dataset. This includes factors such as property size, location, condition, and macroeconomic indicators, such as inflation rates, GDP, and other financial data from the period. The key target variable to predict is price_doc (the sale price) from the train.csv dataset."
   ]
  },
  {
   "cell_type": "markdown",
   "id": "03055591-9bfe-406e-85c0-2e35cb747170",
   "metadata": {},
   "source": [
    "## Dataset\n",
    "The dataset used for this project is sourced from Kaggle, as part of the \"Sberbank Russian Housing Market\" competition. It includes two main files:\n",
    "\n",
    "train.csv: This file contains information about individual property transactions, indexed by an \"id\" field that refers to specific transactions. The dataset spans from August 2011 to June 2015. It includes features about the properties themselves (e.g., square footage, number of rooms, etc.) and also includes supplementary information about the local area of each property (e.g., neighborhood, location, and distance to various amenities). Each property might appear multiple times in separate transactions.\n",
    "\n",
    "macro.csv: This file contains data on the macroeconomic environment in Russia during the same period. It includes information such as inflation rates, currency exchange rates, and other economic indicators, which are critical for understanding broader economic trends that may impact property values.\n",
    "\n",
    "data_dictionary.txt: This file provides detailed explanations for each of the fields in the datasets, helping to interpret the data and understand the context for each variable."
   ]
  },
  {
   "cell_type": "markdown",
   "id": "c608eaaf-3456-49e6-ba00-7ffcdf43e1eb",
   "metadata": {},
   "source": [
    "## Objetive\n",
    "The project aims to build a machine learning model that can predict the sale price (price_doc) of properties using the data from train.csv and the macroeconomic indicators from macro.csv. "
   ]
  },
  {
   "cell_type": "markdown",
   "id": "7eb4df66-120a-41c9-84e0-5dfcae266035",
   "metadata": {},
   "source": [
    "## Scope\n",
    "The main tasks involved in this project include:\n",
    "\n",
    "Data Loading and Preprocessing: Importing the data from the provided CSV files and preparing the datasets for analysis. This involves handling missing values, removing duplicates, and transforming variables to create a suitable feature space for modeling.\n",
    "\n",
    "Exploratory Data Analysis (EDA): Understanding the structure of the data, visualizing relationships between variables, and identifying potential patterns or insights that could help in predicting the sale prices.\n",
    "\n",
    "Feature Engineering: Simplifying the feature space by reducing redundancy, creating new features where appropriate, and handling categorical variables.\n",
    "\n",
    "Time Series Analysis: Given that the dataset spans several years, time-dependent patterns and trends need to be considered. Analyzing how temporal variables, such as inflation or exchange rates, impact property prices over time will be crucial for model development.\n",
    "\n",
    "Model Selection, Training, and Evaluation: Comparing different machine learning models (such as linear regression, decision trees, random forests, and gradient boosting) to select the most appropriate model based on prediction accuracy, training time, and generalization ability."
   ]
  },
  {
   "cell_type": "markdown",
   "id": "1901cccd-7be3-482e-8602-018dee8d0d71",
   "metadata": {},
   "source": [
    "## Success Criteria\n",
    "The success of this project will be measured by several key criteria:\n",
    "\n",
    "Accuracy: The model's ability to accurately predict property prices, as measured by performance metrics such as Mean Absolute Error (MAE) or Root Mean Squared Error (RMSE).\n",
    "\n",
    "Runtime: The time taken to train and evaluate the model, ensuring that the solution is computationally efficient and can handle large datasets within a reasonable timeframe.\n",
    "\n",
    "Generalization: The ability of the model to generalize to unseen data, particularly in predicting the impact of macroeconomic variables, will determine its robustness.\n",
    "\n",
    "Interpretability: Understanding the key features influencing price predictions, and ensuring that the model is not just accurate but also interpretable, will be important for gaining insights into the housing market."
   ]
  },
  {
   "cell_type": "markdown",
   "id": "b2041a23-8691-473a-abf1-4d6fd2db6dac",
   "metadata": {},
   "source": [
    "## Conclusion\n",
    "This project will explore a data-driven approach to forecasting the Russian housing market, integrating property-specific features with macroeconomic data to improve prediction accuracy. By combining time series analysis, feature engineering, and machine learning algorithms, the goal is to build a reliable model that can predict property prices in Russia's dynamic real estate market. The final solution should be not only accurate but also efficient and interpretable, providing actionable insights for stakeholders in the housing market."
   ]
  },
  {
   "cell_type": "markdown",
   "id": "48d52818-54ec-4030-9a9f-a2756a02d521",
   "metadata": {},
   "source": [
    "## Refferences\n",
    "Datasets and notebooks:\n",
    "1. https://www.kaggle.com/competitions/sberbank-russian-housing-market/data\n",
    "2. https://www.kaggle.com/code/limuhan/ml-rumkt-data\n",
    "\n",
    "I read from:\n",
    "1. https://www.researchgate.net/publication/228451484_Classification_and_Regression_by_RandomForest\n",
    "2. https://code-b.dev/blog/boosting-machine-learning\n",
    "3. https://www.sciencedirect.com/topics/neuroscience/time-series-analysis"
   ]
  },
  {
   "cell_type": "markdown",
   "id": "7186c628-4159-4d65-b1ab-d9ffadecc4ca",
   "metadata": {},
   "source": [
    "## ! META LINK!\n",
    "\n",
    "In the retake exam section I will upload only my notebooks because of the size restriction.\n",
    "\n",
    "Here is a meta link with my whole project:\n",
    "https://mega.nz/folder/zBBHwSyJ#W4YhJFyN4VoTbuVzcDqAaA"
   ]
  },
  {
   "cell_type": "code",
   "execution_count": null,
   "id": "bd3ba8ed-68d8-4a62-838b-c8f9b355004f",
   "metadata": {},
   "outputs": [],
   "source": []
  }
 ],
 "metadata": {
  "kernelspec": {
   "display_name": "Python 3 (ipykernel)",
   "language": "python",
   "name": "python3"
  },
  "language_info": {
   "codemirror_mode": {
    "name": "ipython",
    "version": 3
   },
   "file_extension": ".py",
   "mimetype": "text/x-python",
   "name": "python",
   "nbconvert_exporter": "python",
   "pygments_lexer": "ipython3",
   "version": "3.11.7"
  }
 },
 "nbformat": 4,
 "nbformat_minor": 5
}
